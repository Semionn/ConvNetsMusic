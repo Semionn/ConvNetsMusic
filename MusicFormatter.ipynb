{
 "cells": [
  {
   "cell_type": "code",
   "execution_count": 1,
   "metadata": {
    "collapsed": false
   },
   "outputs": [],
   "source": [
    "import pip\n",
    "\n",
    "def install(package):\n",
    "    pip.main(['install', '--upgrade', package])"
   ]
  },
  {
   "cell_type": "code",
   "execution_count": 2,
   "metadata": {
    "collapsed": false
   },
   "outputs": [],
   "source": [
    "from __future__ import print_function\n",
    "import numpy as np\n",
    "import subprocess\n",
    "import os"
   ]
  },
  {
   "cell_type": "code",
   "execution_count": 3,
   "metadata": {
    "collapsed": false
   },
   "outputs": [],
   "source": [
    "def process_to_wav(path_from, path_to):\n",
    "    path_to = os.path.splitext(path_to)[0] + '.wav'\n",
    "    subprocess.call([\"ffmpeg/ffmpeg\", \"-i\", path_from, path_to])"
   ]
  },
  {
   "cell_type": "code",
   "execution_count": 3,
   "metadata": {
    "collapsed": true
   },
   "outputs": [],
   "source": []
  },
  {
   "cell_type": "code",
   "execution_count": 4,
   "metadata": {
    "collapsed": true
   },
   "outputs": [],
   "source": [
    "basedir = '/media/semionn/\\xd0\\xa5\\xd0\\xb0\\xd1\\x80\\xd0\\xb4/music_dataset'"
   ]
  },
  {
   "cell_type": "code",
   "execution_count": 5,
   "metadata": {
    "collapsed": true
   },
   "outputs": [],
   "source": [
    "new_dir = '/media/semionn/\\xd0\\xa5\\xd0\\xb0\\xd1\\x80\\xd0\\xb4/music_dataset_wav'"
   ]
  },
  {
   "cell_type": "code",
   "execution_count": 13,
   "metadata": {
    "collapsed": false
   },
   "outputs": [
    {
     "name": "stdout",
     "output_type": "stream",
     "text": [
      "/media/semionn/Хард/music_dataset\n",
      "/media/semionn/Хард/music_dataset/Classic\n",
      "/media/semionn/Хард/music_dataset/Classic/Baroque\n",
      "/media/semionn/Хард/music_dataset/Classic/choruses\n",
      "/media/semionn/Хард/music_dataset/Classic/Covers\n",
      "/media/semionn/Хард/music_dataset/Classic/Covers/Box\n",
      "/media/semionn/Хард/music_dataset/Classic/Covers/CD1 - The Great Waltzes\n",
      "/media/semionn/Хард/music_dataset/Classic/Covers/CD2 - The Romantic Piano\n",
      "/media/semionn/Хард/music_dataset/Classic/Covers/CD3 - Mighty Choruses\n",
      "/media/semionn/Хард/music_dataset/Classic/Covers/CD4 - Adagio - Music for relaxing\n",
      "/media/semionn/Хард/music_dataset/Classic/Covers/CD5 - Largo - Music for reading\n",
      "/media/semionn/Хард/music_dataset/Classic/Covers/CD6 - Opera Highlights\n",
      "/media/semionn/Хард/music_dataset/Classic/Covers/CD7 - Mostly Baroque\n",
      "/media/semionn/Хард/music_dataset/Classic/Covers/CD8 - Mostly Romance\n",
      "/media/semionn/Хард/music_dataset/Classic/Largo\n",
      "/media/semionn/Хард/music_dataset/Classic/Opera\n",
      "/media/semionn/Хард/music_dataset/Classic/relaxing\n",
      "/media/semionn/Хард/music_dataset/Classic/Romance\n",
      "/media/semionn/Хард/music_dataset/Classic/romantic_piano\n",
      "/media/semionn/Хард/music_dataset/Classic/waltzes\n",
      "/media/semionn/Хард/music_dataset/electro\n",
      "/media/semionn/Хард/music_dataset/electro/Harold Faltermeyer\n",
      "/media/semionn/Хард/music_dataset/electro/Herbie Hancock\n",
      "/media/semionn/Хард/music_dataset/electro/Hipnosis\n",
      "/media/semionn/Хард/music_dataset/electro/Izzanelli\n",
      "/media/semionn/Хард/music_dataset/electro/Jan Hammer\n",
      "/media/semionn/Хард/music_dataset/electro/Jeff Newmann\n",
      "/media/semionn/Хард/music_dataset/electro/Keith Mansfield\n",
      "/media/semionn/Хард/music_dataset/electro/Keith MansfieldT.Cox\n",
      "/media/semionn/Хард/music_dataset/electro/Robot Rose\n",
      "/media/semionn/Хард/music_dataset/electro/Sakamoto\n",
      "/media/semionn/Хард/music_dataset/electro/Saturne Ea 1\n",
      "/media/semionn/Хард/music_dataset/electro/Sauveur Mallia\n",
      "/media/semionn/Хард/music_dataset/electro/Stu Phillips\n",
      "/media/semionn/Хард/music_dataset/electro/Synco\n",
      "/media/semionn/Хард/music_dataset/electro/Synergy\n",
      "/media/semionn/Хард/music_dataset/electro/T L S O\n",
      "/media/semionn/Хард/music_dataset/electro/The Creatures\n",
      "/media/semionn/Хард/music_dataset/electro/Ton Scherpenzeel\n",
      "/media/semionn/Хард/music_dataset/electro/Ton Scherpenzeel feat. Chris Rainbow\n",
      "/media/semionn/Хард/music_dataset/electro/Earforce Band\n",
      "/media/semionn/Хард/music_dataset/electro/Hans Edler\n",
      "/media/semionn/Хард/music_dataset/electro/Kitaro\n",
      "/media/semionn/Хард/music_dataset/electro/Rick Van Der Linden\n",
      "/media/semionn/Хард/music_dataset/electro/Synthesizer Hits\n",
      "/media/semionn/Хард/music_dataset/electro/Electronic System\n",
      "/media/semionn/Хард/music_dataset/electro/Francis Rimbert\n",
      "/media/semionn/Хард/music_dataset/electro/Frederic Mercier\n",
      "/media/semionn/Хард/music_dataset/electro/Galaxy Hunter\n",
      "/media/semionn/Хард/music_dataset/electro/Georges Rodi\n",
      "/media/semionn/Хард/music_dataset/electro/Klaas Bijland\n",
      "/media/semionn/Хард/music_dataset/electro/Klangwelt\n",
      "/media/semionn/Хард/music_dataset/electro/Kraftwerk\n",
      "/media/semionn/Хард/music_dataset/electro/Landscape\n",
      "/media/semionn/Хард/music_dataset/electro/Lindstrom\n",
      "/media/semionn/Хард/music_dataset/electro/Logic System\n",
      "/media/semionn/Хард/music_dataset/electro/M & H Band\n",
      "/media/semionn/Хард/music_dataset/electro/Mark J. Cairns\n",
      "/media/semionn/Хард/music_dataset/electro/Mark Shreeve\n",
      "/media/semionn/Хард/music_dataset/electro/MCclusky\n",
      "/media/semionn/Хард/music_dataset/electro/Mitch Murder\n",
      "/media/semionn/Хард/music_dataset/electro/Oliver's Planet\n",
      "/media/semionn/Хард/music_dataset/electro/ORM & Kamelie\n",
      "/media/semionn/Хард/music_dataset/electro/Alan Hawkshaw\n",
      "/media/semionn/Хард/music_dataset/electro/Alan Parsons Project\n",
      "/media/semionn/Хард/music_dataset/electro/Automat\n",
      "/media/semionn/Хард/music_dataset/electro/Bang Bang Robot\n",
      "/media/semionn/Хард/music_dataset/electro/Cusco\n",
      "/media/semionn/Хард/music_dataset/electro/Cybotron\n",
      "/media/semionn/Хард/music_dataset/electro/Digital Emotion\n",
      "/media/semionn/Хард/music_dataset/russian_rock\n",
      "/media/semionn/Хард/music_dataset/russian_rock/agata_kristi\n",
      "/media/semionn/Хард/music_dataset/russian_rock/akvarium\n",
      "/media/semionn/Хард/music_dataset/russian_rock/alisa\n",
      "/media/semionn/Хард/music_dataset/russian_rock/alyans\n",
      "/media/semionn/Хард/music_dataset/russian_rock/aukcion\n",
      "/media/semionn/Хард/music_dataset/russian_rock/bravo\n",
      "/media/semionn/Хард/music_dataset/russian_rock/chaif\n",
      "/media/semionn/Хард/music_dataset/russian_rock/chizh\n",
      "/media/semionn/Хард/music_dataset/russian_rock/ddt\n",
      "/media/semionn/Хард/music_dataset/russian_rock/kalinov_most\n",
      "/media/semionn/Хард/music_dataset/russian_rock/kino\n",
      "/media/semionn/Хард/music_dataset/russian_rock/krematoriy\n",
      "/media/semionn/Хард/music_dataset/russian_rock/kuzmin\n",
      "/media/semionn/Хард/music_dataset/russian_rock/linda\n",
      "/media/semionn/Хард/music_dataset/russian_rock/lyapis\n",
      "/media/semionn/Хард/music_dataset/russian_rock/machina_vremeni\n",
      "/media/semionn/Хард/music_dataset/russian_rock/mongol_shuudan\n",
      "/media/semionn/Хард/music_dataset/russian_rock/moral_kodeks\n",
      "/media/semionn/Хард/music_dataset/russian_rock/mumiy_troll\n",
      "/media/semionn/Хард/music_dataset/russian_rock/nautilus\n",
      "/media/semionn/Хард/music_dataset/russian_rock/neprikasaemie\n",
      "/media/semionn/Хард/music_dataset/russian_rock/nikolski\n",
      "/media/semionn/Хард/music_dataset/russian_rock/nogu_svelo\n",
      "/media/semionn/Хард/music_dataset/russian_rock/nol\n",
      "/media/semionn/Хард/music_dataset/russian_rock/secret\n",
      "/media/semionn/Хард/music_dataset/russian_rock/splin\n",
      "/media/semionn/Хард/music_dataset/russian_rock/Untitled Folder\n",
      "/media/semionn/Хард/music_dataset/russian_rock/va_bank\n",
      "/media/semionn/Хард/music_dataset/russian_rock/voskresenie\n",
      "/media/semionn/Хард/music_dataset/russian_rock/zemfira\n",
      "/media/semionn/Хард/music_dataset/russian_rock/zoopark\n",
      "/media/semionn/Хард/music_dataset/Джаз\n",
      "/media/semionn/Хард/music_dataset/Джаз/cd1\n",
      "/media/semionn/Хард/music_dataset/Джаз/cd2\n",
      "/media/semionn/Хард/music_dataset/Джаз/cd3\n",
      "/media/semionn/Хард/music_dataset/Джаз/cd4\n",
      "/media/semionn/Хард/music_dataset/Джаз/cd5\n",
      "/media/semionn/Хард/music_dataset/Джаз/cd6\n",
      "/media/semionn/Хард/music_dataset/Джаз/cd7\n"
     ]
    }
   ],
   "source": [
    "for root, dirs, files in os.walk(basedir):\n",
    "    print(root)\n",
    "    for f in files:\n",
    "        d = os.path.join(new_dir, root[len(basedir) + 1:])\n",
    "        if not os.path.isdir(d):\n",
    "            os.makedirs(d)\n",
    "        process_to_wav(os.path.join(root, f), os.path.join(new_dir, d, f))"
   ]
  },
  {
   "cell_type": "code",
   "execution_count": null,
   "metadata": {
    "collapsed": false
   },
   "outputs": [],
   "source": []
  }
 ],
 "metadata": {
  "kernelspec": {
   "display_name": "Python 2",
   "language": "python",
   "name": "python2"
  },
  "language_info": {
   "codemirror_mode": {
    "name": "ipython",
    "version": 2
   },
   "file_extension": ".py",
   "mimetype": "text/x-python",
   "name": "python",
   "nbconvert_exporter": "python",
   "pygments_lexer": "ipython2",
   "version": "2.7.6"
  }
 },
 "nbformat": 4,
 "nbformat_minor": 0
}
